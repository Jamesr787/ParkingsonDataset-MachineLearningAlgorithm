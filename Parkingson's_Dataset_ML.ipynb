{
  "nbformat": 4,
  "nbformat_minor": 0,
  "metadata": {
    "colab": {
      "name": "Parkingson's_Dataset_ML.ipynb",
      "provenance": [],
      "toc_visible": true
    },
    "kernelspec": {
      "name": "python3",
      "display_name": "Python 3"
    },
    "language_info": {
      "name": "python"
    }
  },
  "cells": [
    {
      "cell_type": "markdown",
      "source": [
        "# Parkingson's Dataset (Machine Learning)\n",
        "# Scikit-Learn (Random Forests Regressor & Gradient Boosting Regressor) Regression"
      ],
      "metadata": {
        "id": "oFHwUfGdka1S"
      }
    },
    {
      "cell_type": "markdown",
      "source": [
        "Author: James Roberts\n",
        "Date: 4/22/2022"
      ],
      "metadata": {
        "id": "jsGNV70RkzkZ"
      }
    },
    {
      "cell_type": "markdown",
      "source": [
        "The “Parkinson’s Dataset” is a collection of voice measurements from patients with early-stage\n",
        "Parkinson’s disease (PD) who were recruited to a six-month trial of a tele-monitoring device for\n",
        "remote symptom progression monitoring. The recordings were automatically captured in the patients’ homes. The dataset was created by Drs. Athanasios Tsanas and Max Little of the University of Oxford, UK, in collaboration with 10 medical centers in the USA and Intel Corporation, who developed the tele-monitoring device to record the speech signals. The Parkinson’s\n",
        "Dataset was donated by the authors on June, 2008 and can be retrieved at the public URL:\n",
        "https://archive.ics.uci.edu/ml/datasets/Parkinsons.\n",
        "\n",
        "Includes 19 features, which are detailed below:\n",
        "name: integer that uniquely identifies each subject participating to the study.\n",
        "Jitter(%), Jitter(Abs), Jitter:RAP, Jitter:PPQ5, Jitter:DDP: A total of five (5) measures of the variation in fundamental frequency (in Hz) of the speech sound.\n",
        "Shimmer, Shimmer(dB), Shimmer:APQ3, Shimmer:APQ5, Shimmer:APQ11, Shimmer:DDA: A\n",
        "total of six (6) measures of variation in amplitude of the speech sound.\n",
        "NHR, HNR: two (2) measures of ratio of noise-to-tonal components in the voice.\n",
        "RPDE: a nonlinear dynamical complexity measure.\n",
        "DFA: signal fractal scaling exponent.\n",
        "PPE: a nonlinear measure of fundamental frequency variation.\n",
        "motor UPDRS: UPDRS motor score, which is a numerical score assigned by the clinician upon\n",
        "examining the motor abilities of the patient in a sequence of predefined motor tasks.\n",
        "total UPDRS: UPDRS total score, which is the sum of multiple scores assigned by the clinician\n",
        "upon examining the motor abilities, mental abilities, and mood of the patient in a sequence\n",
        "of predefined tasks.\n",
        "A description of the databases is reported in article [1]. A total of 5,875 voice recordings from 42\n",
        "patients are included in the dataset, approximately 200 recordings per patient. No missing value\n",
        "is reported.\n",
        "\n",
        "[1] Tsanas A., Little M. A., McSharry P. E., Ramig L. O., “Accurate telemonitoring of Parkinson’s\n",
        "disease progression by noninvasive speech tests,” IEEE Trans Biomed Eng, vol. 57 (4), pp. 884–\n",
        "93, April 2010. DOI: 10.1109/TBME.2009.2036000"
      ],
      "metadata": {
        "id": "Fpj_cRFfkvP5"
      }
    },
    {
      "cell_type": "code",
      "source": [
        "import pandas as pd             # Pandas is for data analysis and structure manipulation\n",
        "import numpy as np              # NumPy is for numerical operations\n",
        "import matplotlib               # MatPlotLib is for making plots & figures\n",
        "import matplotlib.pyplot as plt # PyPlot is a subset of the library for making MATLAB-style plots\n",
        "\n",
        "## Let us setup the font size\n",
        "plt.rcParams['axes.labelsize']  = 14\n",
        "plt.rcParams['xtick.labelsize'] = 12\n",
        "plt.rcParams['ytick.labelsize'] = 12\n",
        "print('Done!')\n",
        "\n",
        "import warnings\n",
        "warnings.filterwarnings(\"ignore\")"
      ],
      "metadata": {
        "colab": {
          "base_uri": "https://localhost:8080/"
        },
        "id": "e2m1ez8ek6oH",
        "outputId": "1b575d6e-c751-469a-a866-5fc043960b56"
      },
      "execution_count": 5,
      "outputs": [
        {
          "output_type": "stream",
          "name": "stdout",
          "text": [
            "Done!\n"
          ]
        }
      ]
    },
    {
      "cell_type": "code",
      "source": [
        "# Upload Files (if using google colab, otherwise comment out)\n",
        "from google.colab import files\n",
        "import io\n",
        "uploaded = files.upload()"
      ],
      "metadata": {
        "colab": {
          "resources": {
            "http://localhost:8080/nbextensions/google.colab/files.js": {
              "data": "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",
              "ok": true,
              "headers": [
                [
                  "content-type",
                  "application/javascript"
                ]
              ],
              "status": 200,
              "status_text": ""
            }
          },
          "base_uri": "https://localhost:8080/",
          "height": 38
        },
        "id": "4AH-qXzFlDQB",
        "outputId": "af167c83-c9f8-4e53-93b2-815153e42016"
      },
      "execution_count": 6,
      "outputs": [
        {
          "output_type": "display_data",
          "data": {
            "text/plain": [
              "<IPython.core.display.HTML object>"
            ],
            "text/html": [
              "\n",
              "     <input type=\"file\" id=\"files-2202608b-9ba8-467f-a3eb-86cf7f825b98\" name=\"files[]\" multiple disabled\n",
              "        style=\"border:none\" />\n",
              "     <output id=\"result-2202608b-9ba8-467f-a3eb-86cf7f825b98\">\n",
              "      Upload widget is only available when the cell has been executed in the\n",
              "      current browser session. Please rerun this cell to enable.\n",
              "      </output>\n",
              "      <script src=\"/nbextensions/google.colab/files.js\"></script> "
            ]
          },
          "metadata": {}
        }
      ]
    },
    {
      "cell_type": "code",
      "source": [
        "# Create data table\n",
        "dataTable = pd.read_csv('dataset_parkinson.csv')"
      ],
      "metadata": {
        "id": "J1SUfpKjlbQ6"
      },
      "execution_count": 7,
      "outputs": []
    },
    {
      "cell_type": "code",
      "source": [
        "# Retrieve the list of patients\n",
        "P = dataTable['name'].to_numpy()\n",
        "P = P.astype('int')\n",
        "\n",
        "# Retrieve the output variable and the feature matrix\n",
        "# Output Variable: Y\n",
        "Y = dataTable['motor_UPDRS'].to_numpy()\n",
        "\n",
        "# Feature Matrix without the output variable. Remove names. Remove total_UPDRS\n",
        "# as it is based on our Output variable\n",
        "dataTable = dataTable.drop(['motor_UPDRS','total_UPDRS','name'], axis = 1)\n",
        "X = dataTable.to_numpy()\n",
        "\n",
        "print('Size of Y: %d (min: %d - max: %d)' % (np.size(Y,axis=0),np.min(Y),np.max(Y)))\n",
        "print('Size of X: %d x %d' % (np.size(X,axis=0),np.size(X,axis=1)))"
      ],
      "metadata": {
        "colab": {
          "base_uri": "https://localhost:8080/"
        },
        "id": "s5GEWmUBloRB",
        "outputId": "8a74913d-67b0-40fb-f9c0-820a8ed17e1a"
      },
      "execution_count": 8,
      "outputs": [
        {
          "output_type": "stream",
          "name": "stdout",
          "text": [
            "Size of Y: 5875 (min: 5 - max: 39)\n",
            "Size of X: 5875 x 16\n"
          ]
        }
      ]
    },
    {
      "cell_type": "markdown",
      "source": [
        "# Design an Optimal Regressor"
      ],
      "metadata": {
        "id": "ECcVfz_vmlch"
      }
    },
    {
      "cell_type": "code",
      "source": [
        "# 70-30 split and use the training set to optimize the regressors. The splitting is done on the patient ID\n",
        "# after shuffling the sequence of patients IDs\n",
        "patientID = np.arange(42)\n",
        "np.random.shuffle(patientID)\n",
        "ncut = (np.floor(42*0.7)).astype('int')\n",
        "\n",
        "# IDs used for training and testing\n",
        "ptn_train = patientID[:ncut]\n",
        "ptn_test = patientID[ncut:]\n",
        "\n",
        "# Build the training set\n",
        "n_features = np.size(X,axis=1)\n",
        "X_train = np.empty([0,n_features],dtype='float64')\n",
        "Y_train = np.empty([0,1],dtype='float64')\n",
        "for i in ptn_train:\n",
        "    tmp = (P==i)\n",
        "    X_train = np.vstack((X_train,X[tmp,:]))\n",
        "    Y_train = np.vstack((Y_train,Y[tmp].reshape(-1,1)))\n",
        "\n",
        "from sklearn.preprocessing import StandardScaler\n",
        "X_train = StandardScaler().fit_transform(X_train)\n",
        "Y_train = StandardScaler().fit_transform(Y_train)\n",
        "\n",
        "print('Size of Y_train: %d (min: %d - max: %d)' % (np.size(Y_train,axis=0),np.min(Y_train),np.max(Y_train)))\n",
        "print('Size of X_train: %d x %d' % (np.size(X_train,axis=0),np.size(X_train,axis=1)))\n",
        "\n",
        "# Build the test set\n",
        "X_test = np.empty([0,n_features],dtype='float64')\n",
        "Y_test = np.empty([0,1],dtype='float64')\n",
        "for i in ptn_test:\n",
        "    tmp = (P==i)\n",
        "    X_test = np.vstack((X_test,X[tmp,:]))\n",
        "    Y_test = np.vstack((Y_test,Y[tmp].reshape(-1,1)))\n",
        "X_test = StandardScaler().fit_transform(X_test)\n",
        "Y_test = StandardScaler().fit_transform(Y_test)\n",
        "\n",
        "print('Size of Y_test: %d (min: %d - max: %d)' % (np.size(Y_test,axis=0),np.min(Y_test),np.max(Y_test)))\n",
        "print('Size of X_test: %d x %d' % (np.size(X_test,axis=0),np.size(X_test,axis=1)))"
      ],
      "metadata": {
        "colab": {
          "base_uri": "https://localhost:8080/"
        },
        "id": "5ORmf50Dmq_B",
        "outputId": "d6a7e090-4955-462e-b54f-33a2be2f6f37"
      },
      "execution_count": 9,
      "outputs": [
        {
          "output_type": "stream",
          "name": "stdout",
          "text": [
            "Size of Y_train: 3923 (min: -1 - max: 2)\n",
            "Size of X_train: 3923 x 16\n",
            "Size of Y_test: 1802 (min: -1 - max: 1)\n",
            "Size of X_test: 1802 x 16\n"
          ]
        }
      ]
    },
    {
      "cell_type": "code",
      "source": [
        "from sklearn.ensemble import RandomForestRegressor, GradientBoostingRegressor\n",
        "from sklearn.model_selection import RandomizedSearchCV\n",
        "from sklearn.metrics import mean_squared_error\n",
        "\n",
        "# Search for the optimal Random Forests Regressor\n",
        "obj1 = RandomForestRegressor(n_jobs=-1, random_state=36)\n",
        "\n",
        "\n",
        "\n",
        "param_grid = {\n",
        "    'criterion':['mae', 'mse'],\n",
        "    'n_estimators': np.arange(30, 5000, 100),\n",
        "    'min_samples_leaf': np.arange(1, 50, 5),\n",
        "    'max_features':['auto', 'sqrt', 'log2']}\n",
        "\n",
        "# set the number of folds for the cross-validation scheme used in the grid-search\n",
        "n_folds = 3\n",
        "\n",
        "searchRF = RandomizedSearchCV(obj1, param_grid, cv = n_folds, \n",
        "                              n_iter=5, scoring=['neg_mean_squared_error','r2','explained_variance'], \n",
        "                              refit='r2',\n",
        "                              return_train_score=False, \n",
        "                              verbose=1)\n",
        "searchRF.fit(X_train, Y_train)\n",
        "\n",
        "# Save the parameters associated with \"best R2 score\" (i.e., the value specified in \"refit\") for future use\n",
        "RF = searchRF.best_params_\n",
        "\n",
        "# Create the optimal regressor\n",
        "reg_rf = RandomForestRegressor(\n",
        "    criterion= RF['criterion'], \n",
        "    n_estimators= RF['n_estimators'], \n",
        "    min_samples_leaf= RF['min_samples_leaf'],\n",
        "    max_features= RF['max_features'], \n",
        "    n_jobs=-1, \n",
        "    random_state=36)\n",
        "\n",
        "# Check the performance on the test data\n",
        "reg_rf.fit(X_train,Y_train)\n",
        "Y_RF = reg_rf.predict(X_test)\n",
        "rmse_RF = np.sqrt(mean_squared_error(Y_test,Y_RF))\n",
        "perc_RF = rmse_RF / (np.max(Y_test) - np.min(Y_test))\n",
        "print('RMSE Error: %2.2f (abs. val) - %2.2f %%' % (rmse_RF,100*perc_RF))"
      ],
      "metadata": {
        "colab": {
          "base_uri": "https://localhost:8080/"
        },
        "id": "11VzW6KlrVW4",
        "outputId": "bd987d3f-2192-4221-e1df-f5ddfc75f0d6"
      },
      "execution_count": 13,
      "outputs": [
        {
          "output_type": "stream",
          "name": "stdout",
          "text": [
            "Fitting 3 folds for each of 5 candidates, totalling 15 fits\n",
            "RMSE Error: 1.01 (abs. val) - 27.46 %\n"
          ]
        }
      ]
    },
    {
      "cell_type": "code",
      "source": [
        "# Search for the optimal Gradient Boosting Regressor\n",
        "obj2 = GradientBoostingRegressor(random_state=36)\n",
        "\n",
        "param_grid = {\n",
        "    'loss': ['ls', 'lad', 'huber', 'quantile'],\n",
        "    'learning_rate': np.arange(0.1, 1.2, 0.05),\n",
        "    'n_estimators': np.arange(20, 5000, 100),\n",
        "    'subsample': np.arange(0.5, 1, 0.1),\n",
        "    'criterion': ['friedman_mse', 'mse', 'mae'],\n",
        "    'min_samples_leaf': np.arange(1, 50, 5),\n",
        "    'max_depth': np.arange(3, 30, 3),\n",
        "    'max_features':['auto', 'sqrt', 'log2']}\n",
        "\n",
        "searchGB = RandomizedSearchCV(obj2, param_grid, cv = n_folds, \n",
        "                              n_iter=5, scoring=['neg_mean_squared_error','r2','explained_variance'], \n",
        "                              refit='neg_mean_squared_error',\n",
        "                              return_train_score=False, \n",
        "                              verbose=1)\n",
        "searchGB.fit(X_train, Y_train)\n",
        "\n",
        "# Save the parameters associated with \"best mean-squared error\" (i.e., the value specified in \"refit\") for future use\n",
        "GB = searchGB.best_params_\n",
        "\n",
        "# Create the optimal regressor\n",
        "reg_gb = GradientBoostingRegressor(\n",
        "    loss=GB['loss'],\n",
        "    learning_rate=GB['learning_rate'],\n",
        "    n_estimators=GB['n_estimators'],\n",
        "    subsample=GB['subsample'],\n",
        "    criterion=GB['criterion'],\n",
        "    min_samples_leaf=GB['min_samples_leaf'],\n",
        "    max_depth=GB['max_depth'],\n",
        "    max_features=GB['max_features'], \n",
        "    random_state=36)\n",
        "\n",
        "# Check the performance on the test data\n",
        "reg_gb.fit(X_train,Y_train)\n",
        "Y_GB = reg_gb.predict(X_test)\n",
        "rmse_GB = np.sqrt(mean_squared_error(Y_test,Y_GB))\n",
        "perc_GB = rmse_GB / (np.max(Y_test) - np.min(Y_test))\n",
        "print('RMSE Error: %2.2f (abs. val) - %2.2f %%' % (rmse_GB,100*perc_GB))"
      ],
      "metadata": {
        "colab": {
          "base_uri": "https://localhost:8080/"
        },
        "id": "I_KQgZT0A78r",
        "outputId": "928459b4-57e3-44ab-cede-7f8947a7db3d"
      },
      "execution_count": 15,
      "outputs": [
        {
          "output_type": "stream",
          "name": "stdout",
          "text": [
            "Fitting 3 folds for each of 5 candidates, totalling 15 fits\n",
            "RMSE Error: 1.12 (abs. val) - 30.41 %\n"
          ]
        }
      ]
    },
    {
      "cell_type": "markdown",
      "source": [
        "# Test the Optimal Designs\n"
      ],
      "metadata": {
        "id": "KUNrNhyaB5pi"
      }
    },
    {
      "cell_type": "code",
      "source": [
        "# train and test the two regressors\n",
        "reg_rf.fit(X_train,Y_train)\n",
        "reg_gb.fit(X_train,Y_train)\n",
        "\n",
        "Y_RF = reg_rf.predict(X_test)\n",
        "Y_GB = reg_gb.predict(X_test)\n",
        "\n",
        "# assess the performance\n",
        "# Root Mean Squared Error\n",
        "rmse_RF = np.sqrt(mean_squared_error(Y_test,Y_RF))\n",
        "# Normalized Root Mean Squared Error - Value of 0 represents a perfect fiting model\n",
        "perc_RF = rmse_RF / (np.max(Y_test) - np.min(Y_test))\n",
        "print('RF: RMSE Error is %2.2f (abs. val) - %2.2f %%' % (rmse_RF,100*perc_RF))\n",
        "\n",
        "# Root Mean Squared Error\n",
        "rmse_GB = np.sqrt(mean_squared_error(Y_test,Y_GB))\n",
        "# Normalized Root Mean Squared Error\n",
        "perc_GB = rmse_GB / (np.max(Y_test) - np.min(Y_test))\n",
        "print('GB: RMSE Error is %2.2f (abs. val) - %2.2f %%' % (rmse_GB,100*perc_GB))"
      ],
      "metadata": {
        "colab": {
          "base_uri": "https://localhost:8080/"
        },
        "id": "Y4zsSDiABymi",
        "outputId": "8a688dc6-4161-4a9b-ba0f-9eb775cd9c59"
      },
      "execution_count": 18,
      "outputs": [
        {
          "output_type": "stream",
          "name": "stdout",
          "text": [
            "RF: RMSE Error is 1.01 (abs. val) - 27.46 %\n",
            "GB: RMSE Error is 1.12 (abs. val) - 30.41 %\n"
          ]
        }
      ]
    },
    {
      "cell_type": "markdown",
      "source": [
        "From here, the most promising regressor is the Random Forests since it outperforms the GradientBoosting regressor. The RMSE could possibly be reduced by removing features that do not correlate well with the output."
      ],
      "metadata": {
        "id": "utYCYveFSs1L"
      }
    }
  ]
}